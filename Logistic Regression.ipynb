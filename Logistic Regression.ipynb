{
 "cells": [
  {
   "cell_type": "code",
   "execution_count": 1,
   "metadata": {},
   "outputs": [],
   "source": [
    "import numpy as np"
   ]
  },
  {
   "cell_type": "code",
   "execution_count": 2,
   "metadata": {},
   "outputs": [],
   "source": [
    "class Logistic_Regression():\n",
    "    def __init__(self, n_epoch = 500, learning_rate = 0.01, loss_tolerance = 0.0001):\n",
    "        self._n_epoch = n_epoch\n",
    "        self._lr = learning_rate\n",
    "        self._loss_tolerance = loss_tolerance    \n",
    "\n",
    "    def fit(self, X, y):\n",
    "        \"\"\"模型训练\"\"\"\n",
    "        n_sample, n_feature = xtrain.shape\n",
    "        rnd = 1 / np.sqrt(n_feature)\n",
    "        rng = np.random.default_rng()\n",
    "        # 初始化权重和偏置\n",
    "        self._w = rng.uniform(-rnd, rnd, size = n_feature)\n",
    "        self._b = 0\n",
    "        \n",
    "        num_epoch = 0\n",
    "        pre_loss = 0\n",
    "\n",
    "        while True:\n",
    "            cur_loss = 0\n",
    "            X, y = self.shuffleData(xtrain, ytrain) # 每次把数据打散\n",
    "            for i in range(n_sample):\n",
    "                y_pred = self._sigmoid(np.dot(self._w, X[i]) + self._b)\n",
    "                diff = y[i] - y_pred\n",
    "                self._w += self._lr * diff * X[i]\n",
    "                self._b += self._lr * diff\n",
    "                cur_loss += abs(diff)\n",
    "            num_epoch += 1\n",
    "            loss_diff = cur_loss - pre_loss\n",
    "            cur_loss = pre_loss\n",
    "            \n",
    "            # 如果epoch达到指定的n_epoch或者相邻的两个损失差小于loss_tolerance，则停止训练\n",
    "            if num_epoch >= self._n_epoch or abs(loss_diff) < self._loss_tolerance:\n",
    "                break\n",
    "\n",
    "    def predict(self, X):    \n",
    "        \"\"\"给定输入样本，预测类别\"\"\"\n",
    "        logit = np.dot(self._w, X) + self._b\n",
    "        return 1 if logit > 0 else 0\n",
    "    \n",
    "    def _sigmoid(self, z):\n",
    "        return 1/(1 + np.exp(-z))\n",
    "    \n",
    "    def shuffleData(self, xtrain, ytrain):\n",
    "        arr = np.arange(len(xtrain))        \n",
    "        np.random.shuffle(arr)\n",
    "        X = xtrain[arr]\n",
    "        y = ytrain[arr]\n",
    "        return X, y"
   ]
  },
  {
   "cell_type": "code",
   "execution_count": 3,
   "metadata": {},
   "outputs": [],
   "source": [
    "def standardization(data):\n",
    "    mu = np.mean(data, axis=0)\n",
    "    sigma = np.std(data, axis=0)\n",
    "    return (data - mu) / sigma"
   ]
  },
  {
   "cell_type": "code",
   "execution_count": 4,
   "metadata": {},
   "outputs": [
    {
     "name": "stdout",
     "output_type": "stream",
     "text": [
      "逻辑回归在测试集上的准确率为：100.0%\n"
     ]
    }
   ],
   "source": [
    "# 逻辑回归分类效果\n",
    "from sklearn.datasets import load_iris\n",
    "from sklearn.model_selection import train_test_split\n",
    "iris_data, iris_y = load_iris(return_X_y=True) #return_X_y为True，表示因变量和自变量独立导出\n",
    "X = standardization(iris_data)\n",
    "xtrain, xtest, ytrain, ytest = train_test_split(X[:100], iris_y[:100], train_size=0.8, shuffle=True)\n",
    "\n",
    "model = Logistic_Regression(n_epoch = 1000, learning_rate = 0.01, loss_tolerance = 0.00001)\n",
    "model.fit(xtrain, ytrain)\n",
    "\n",
    "n_test = xtest.shape[0]\n",
    "n_right = 0\n",
    "for i in range(n_test):\n",
    "    y_pred = model.predict(xtest[i])\n",
    "    if y_pred == ytest[i]:\n",
    "        n_right += 1\n",
    "print(\"逻辑回归在测试集上的准确率为：{}%\".format((n_right * 100) / n_test))"
   ]
  },
  {
   "cell_type": "code",
   "execution_count": 5,
   "metadata": {},
   "outputs": [
    {
     "name": "stdout",
     "output_type": "stream",
     "text": [
      "sklearn逻辑回归模型在测试集上准确率为：100.0%\n"
     ]
    }
   ],
   "source": [
    "from sklearn.linear_model import LogisticRegression\n",
    "clf = LogisticRegression(max_iter = 500)\n",
    "clf.fit(xtrain, ytrain)\n",
    "print(\"sklearn逻辑回归模型在测试集上准确率为：{}%\".format(100 * clf.score(xtest, ytest)))"
   ]
  },
  {
   "cell_type": "code",
   "execution_count": null,
   "metadata": {},
   "outputs": [],
   "source": []
  }
 ],
 "metadata": {
  "kernelspec": {
   "display_name": "Python 3",
   "language": "python",
   "name": "python3"
  },
  "language_info": {
   "codemirror_mode": {
    "name": "ipython",
    "version": 3
   },
   "file_extension": ".py",
   "mimetype": "text/x-python",
   "name": "python",
   "nbconvert_exporter": "python",
   "pygments_lexer": "ipython3",
   "version": "3.7.6"
  }
 },
 "nbformat": 4,
 "nbformat_minor": 4
}
